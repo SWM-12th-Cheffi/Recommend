{
 "cells": [
  {
   "cell_type": "code",
   "execution_count": 7,
   "metadata": {},
   "outputs": [],
   "source": [
    "import urllib\n",
    "from bs4 import BeautifulSoup\n",
    "\n",
    "def PageCrawler(recipeUrl):\n",
    "    print(recipeUrl)\n",
    "    url = \"http://www.10000recipe.com/recipe/\" + str(recipeUrl)\n",
    "    req = urllib.request.Request(url)\n",
    "    sourcecode = urllib.request.urlopen(url).read()\n",
    "    soup = BeautifulSoup(sourcecode, \"html.parser\")\n",
    "    \n",
    "    recipe_title = []\n",
    "    recipe_source = {}\n",
    "    \n",
    "    res = soup.find('div','view2_summary_in')\n",
    "    if res == None:\n",
    "        return \"\"\n",
    "    else:\n",
    "        return res.get_text().replace('\\n','').strip()\n"
   ]
  },
  {
   "cell_type": "code",
   "execution_count": 4,
   "metadata": {},
   "outputs": [],
   "source": [
    "import json\n",
    "import ast\n",
    "id_list = []\n",
    "with open(\"Complete_before_final.json\",\"r\") as f:\n",
    "    json_data_ = json.load(f) \n",
    "json_data_ = json.dumps(json_data_,ensure_ascii = False)\n",
    "json_data_ = ast.literal_eval(json_data_)\n",
    "for k in json_data_.keys():\n",
    "    if int(k) >= 600000:\n",
    "        id_list.append(k)"
   ]
  },
  {
   "cell_type": "code",
   "execution_count": 6,
   "metadata": {},
   "outputs": [
    {
     "data": {
      "text/plain": [
       "13278"
      ]
     },
     "execution_count": 6,
     "metadata": {},
     "output_type": "execute_result"
    }
   ],
   "source": [
    "len(id_list)"
   ]
  },
  {
   "cell_type": "code",
   "execution_count": null,
   "metadata": {},
   "outputs": [],
   "source": [
    "text_crawl = {}\n",
    "for i in id_list:\n",
    "    text_crawl[i] = PageCrawler()"
   ]
  }
 ],
 "metadata": {
  "kernelspec": {
   "display_name": "Python 3",
   "language": "python",
   "name": "python3"
  },
  "language_info": {
   "codemirror_mode": {
    "name": "ipython",
    "version": 3
   },
   "file_extension": ".py",
   "mimetype": "text/x-python",
   "name": "python",
   "nbconvert_exporter": "python",
   "pygments_lexer": "ipython3",
   "version": "3.7.4"
  }
 },
 "nbformat": 4,
 "nbformat_minor": 2
}
